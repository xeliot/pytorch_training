{
 "cells": [
  {
   "cell_type": "code",
   "execution_count": 3,
   "metadata": {},
   "outputs": [],
   "source": [
    "import torch\n",
    "import torch.nn as nn\n",
    "import numpy as np\n",
    "import matplotlib.pyplot as plt\n",
    "import torch.optim as optim\n",
    "import torch.nn.functional as F"
   ]
  },
  {
   "cell_type": "markdown",
   "metadata": {},
   "source": [
    "## Batch Normalization"
   ]
  },
  {
   "cell_type": "code",
   "execution_count": 4,
   "metadata": {},
   "outputs": [
    {
     "name": "stdout",
     "output_type": "stream",
     "text": [
      "tensor([[ 1.,  2.,  3.],\n",
      "        [ 4.,  5.,  6.],\n",
      "        [ 7.,  8.,  9.],\n",
      "        [10., 11., 12.]])\n",
      "tensor([[-0.8409, -0.2090, -1.3279],\n",
      "        [-0.2803, -0.0697, -0.4426],\n",
      "        [ 0.2803,  0.0697,  0.4426],\n",
      "        [ 0.8409,  0.2090,  1.3279]], grad_fn=<NativeBatchNormBackward>)\n"
     ]
    }
   ],
   "source": [
    "m = nn.BatchNorm1d(3)\n",
    "input = torch.tensor([[1, 2, 3],\n",
    "                      [4, 5, 6],\n",
    "                      [7, 8, 9],\n",
    "                      [10, 11, 12]], dtype=torch.float)\n",
    "output = m(input)\n",
    "print(input)\n",
    "print(output)"
   ]
  },
  {
   "cell_type": "markdown",
   "metadata": {},
   "source": [
    "## Dropout"
   ]
  },
  {
   "cell_type": "code",
   "execution_count": 5,
   "metadata": {},
   "outputs": [
    {
     "name": "stdout",
     "output_type": "stream",
     "text": [
      "tensor([[ 1.,  2.,  3.],\n",
      "        [ 4.,  5.,  6.],\n",
      "        [ 7.,  8.,  9.],\n",
      "        [10., 11., 12.]])\n",
      "tensor([[ 0.0000,  2.5000,  3.7500],\n",
      "        [ 5.0000,  6.2500,  7.5000],\n",
      "        [ 8.7500, 10.0000, 11.2500],\n",
      "        [12.5000,  0.0000,  0.0000]])\n"
     ]
    }
   ],
   "source": [
    "m = nn.Dropout(p=0.2)\n",
    "input = torch.tensor([[1, 2, 3],\n",
    "                      [4, 5, 6],\n",
    "                      [7, 8, 9],\n",
    "                      [10, 11, 12]], dtype=torch.float)\n",
    "output = m(input)\n",
    "print(input)\n",
    "print(output)"
   ]
  },
  {
   "cell_type": "markdown",
   "metadata": {},
   "source": [
    "## Linear Regression Example using Neural Network"
   ]
  },
  {
   "cell_type": "markdown",
   "metadata": {},
   "source": [
    "#### Generate Data"
   ]
  },
  {
   "cell_type": "code",
   "execution_count": 6,
   "metadata": {},
   "outputs": [
    {
     "name": "stdout",
     "output_type": "stream",
     "text": [
      "torch.Size([100])\n",
      "torch.Size([100])\n"
     ]
    }
   ],
   "source": [
    "x = 20 * torch.rand(100) - 10\n",
    "y = (2 * x) + 5\n",
    "noise_ratio = 0.2 * torch.rand(100) - 0.1\n",
    "y_range = torch.max(y) - torch.min(y)\n",
    "noise = noise_ratio * y_range\n",
    "y = y + noise\n",
    "print(x.size())\n",
    "print(y.size())"
   ]
  },
  {
   "cell_type": "markdown",
   "metadata": {},
   "source": [
    "#### Plot Data"
   ]
  },
  {
   "cell_type": "code",
   "execution_count": 7,
   "metadata": {},
   "outputs": [
    {
     "data": {
      "image/png": "[encoded data removed]",
      "text/plain": [
       "<Figure size 432x288 with 1 Axes>"
      ]
     },
     "metadata": {
      "needs_background": "light"
     },
     "output_type": "display_data"
    }
   ],
   "source": [
    "plt.scatter(x.numpy(), y.numpy(), alpha=0.7, s=15)\n",
    "plt.axhline(0, color=\"black\", linestyle=\"--\", alpha=0.3, linewidth=1)\n",
    "plt.axvline(0, color=\"black\", linestyle=\"--\", alpha=0.3, linewidth=1)\n",
    "plt.show()"
   ]
  },
  {
   "cell_type": "markdown",
   "metadata": {},
   "source": [
    "#### Build Neural Network Architecture"
   ]
  },
  {
   "cell_type": "code",
   "execution_count": 8,
   "metadata": {},
   "outputs": [],
   "source": [
    "class Net(nn.Module):\n",
    "    def __init__(self):\n",
    "        super(Net, self).__init__()\n",
    "        self.fc1 = nn.Linear(1, 5, bias=True)\n",
    "        self.fc2 = nn.Linear(5, 1, bias=True)\n",
    "        self.dropout = nn.Dropout(p=0.2)\n",
    "        self.batchnorm = nn.BatchNorm1d(5)\n",
    "    \n",
    "    def forward(self, x):\n",
    "        x = self.fc1(x)\n",
    "        x = self.batchnorm(x)\n",
    "        x = F.relu(x)\n",
    "        x = self.dropout(x)\n",
    "        x = self.fc2(x)\n",
    "        return x"
   ]
  },
  {
   "cell_type": "markdown",
   "metadata": {},
   "source": [
    "#### Initialize Neural Network"
   ]
  },
  {
   "cell_type": "code",
   "execution_count": 9,
   "metadata": {},
   "outputs": [],
   "source": [
    "net = Net()"
   ]
  },
  {
   "cell_type": "markdown",
   "metadata": {},
   "source": [
    "#### Training Loop"
   ]
  },
  {
   "cell_type": "code",
   "execution_count": 11,
   "metadata": {},
   "outputs": [
    {
     "name": "stdout",
     "output_type": "stream",
     "text": [
      "mseloss: 177.4246826171875\n",
      "mseloss: 20.05832862854004\n",
      "mseloss: 29.772899627685547\n",
      "mseloss: 24.729372024536133\n",
      "mseloss: 21.321701049804688\n",
      "mseloss: 24.73200798034668\n",
      "mseloss: 24.66257095336914\n",
      "mseloss: 16.844985961914062\n",
      "mseloss: 32.568424224853516\n",
      "mseloss: 20.81440544128418\n"
     ]
    }
   ],
   "source": [
    "criterion = nn.MSELoss()\n",
    "optimizer = optim.SGD(net.parameters(), lr=0.001)\n",
    "#tranining loop\n",
    "net.train()\n",
    "for i in range(0, 100000):\n",
    "    optimizer.zero_grad()\n",
    "    output = net(x.resize_(100, 1))\n",
    "    #print(output)\n",
    "    loss = criterion(output, y.resize_(100, 1))\n",
    "    if i%10000 == 0:\n",
    "        print(\"mseloss:\", loss.item())\n",
    "        #print(list(net.parameters()))\n",
    "    loss.backward()\n",
    "    optimizer.step()"
   ]
  },
  {
   "cell_type": "markdown",
   "metadata": {},
   "source": [
    "#### Evaluate Model"
   ]
  },
  {
   "cell_type": "code",
   "execution_count": 28,
   "metadata": {},
   "outputs": [
    {
     "data": {
      "image/png": "[encoded data removed]",
      "text/plain": [
       "<Figure size 432x288 with 1 Axes>"
      ]
     },
     "metadata": {
      "needs_background": "light"
     },
     "output_type": "display_data"
    }
   ],
   "source": [
    "net.eval()\n",
    "plt.scatter(x.numpy().reshape(100), y.numpy().reshape(100), alpha=0.7, s=15)\n",
    "plt.axhline(0, color=\"black\", linestyle=\"--\", alpha=0.3, linewidth=1)\n",
    "plt.axvline(0, color=\"black\", linestyle=\"--\", alpha=0.3, linewidth=1)\n",
    "x_pred = np.linspace(-10, 10, 100)\n",
    "output = net(x.resize_(100, 1))\n",
    "plt.plot(x.numpy().reshape(100), output.detach().numpy().reshape(100), \"ro\")\n",
    "plt.show()"
   ]
  },
  {
   "cell_type": "code",
   "execution_count": null,
   "metadata": {},
   "outputs": [],
   "source": []
  }
 ],
 "metadata": {
  "kernelspec": {
   "display_name": "Python 3",
   "language": "python",
   "name": "python3"
  },
  "language_info": {
   "codemirror_mode": {
    "name": "ipython",
    "version": 3
   },
   "file_extension": ".py",
   "mimetype": "text/x-python",
   "name": "python",
   "nbconvert_exporter": "python",
   "pygments_lexer": "ipython3",
   "version": "3.7.3"
  }
 },
 "nbformat": 4,
 "nbformat_minor": 2
}
