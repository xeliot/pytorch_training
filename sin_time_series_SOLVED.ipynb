{
 "cells": [
  {
   "cell_type": "markdown",
   "metadata": {},
   "source": [
    "# LSTM Time Series Basic Example"
   ]
  },
  {
   "cell_type": "code",
   "execution_count": 3,
   "metadata": {},
   "outputs": [],
   "source": [
    "import numpy as np\n",
    "import torch\n",
    "import torch.nn as nn\n",
    "import torch.nn.functional as F\n",
    "import matplotlib.pyplot as plt\n",
    "import torch.optim as optim\n",
    "import matplotlib.pyplot as plt"
   ]
  },
  {
   "cell_type": "markdown",
   "metadata": {},
   "source": [
    "## Generate the time series training data"
   ]
  },
  {
   "cell_type": "markdown",
   "metadata": {},
   "source": [
    "#### Create x, y data"
   ]
  },
  {
   "cell_type": "code",
   "execution_count": 4,
   "metadata": {},
   "outputs": [],
   "source": [
    "x = np.linspace(1, 1000, 1000)\n",
    "\n",
    "y1 = 1.5 * np.sin(x)\n",
    "y2 = 0.5 * np.sin(400*x)\n",
    "y3 = 15 - 0.04*x + 0.02*x**1.1\n",
    "\n",
    "y = y1 + y2 + y3\n",
    "training = y[:900]\n",
    "testing = y[900:]"
   ]
  },
  {
   "cell_type": "markdown",
   "metadata": {},
   "source": [
    "#### Plot x, y data"
   ]
  },
  {
   "cell_type": "code",
   "execution_count": 5,
   "metadata": {},
   "outputs": [
    {
     "data": {
      "text/plain": [
       "[<matplotlib.lines.Line2D at 0x1215505f8>]"
      ]
     },
     "execution_count": 5,
     "metadata": {},
     "output_type": "execute_result"
    },
    {
     "data": {
      "image/png": "[encoded data removed]",
      "text/plain": [
       "<Figure size 432x288 with 1 Axes>"
      ]
     },
     "metadata": {
      "needs_background": "light"
     },
     "output_type": "display_data"
    }
   ],
   "source": [
    "plt.plot(y)"
   ]
  },
  {
   "cell_type": "markdown",
   "metadata": {},
   "source": [
    "#### Package x, y data into sequences"
   ]
  },
  {
   "cell_type": "code",
   "execution_count": 7,
   "metadata": {},
   "outputs": [
    {
     "name": "stdout",
     "output_type": "stream",
     "text": [
      "tensor([[16.7738],\n",
      "        [15.1145],\n",
      "        [13.3961],\n",
      "        [13.9441],\n",
      "        [14.3965],\n",
      "        [15.5029],\n",
      "        [16.8404],\n",
      "        [15.3514],\n",
      "        [13.6940],\n",
      "        [13.8297]])\n",
      "tensor([13.8297])\n",
      "torch.Size([890, 10, 1])\n",
      "torch.Size([890, 1])\n"
     ]
    }
   ],
   "source": [
    "k = 10\n",
    "inputs = []\n",
    "target = []\n",
    "for i in range(0, len(training)-k):\n",
    "    inputs.append(training[i:i+k].reshape(k, 1))\n",
    "    target.append([training[i+k]])\n",
    "inputs = torch.tensor(inputs, dtype=torch.float)\n",
    "target = torch.tensor(target, dtype=torch.float)\n",
    "print(inputs[1])\n",
    "print(target[0])\n",
    "print(inputs.shape)\n",
    "print(target.shape)"
   ]
  },
  {
   "cell_type": "markdown",
   "metadata": {},
   "source": [
    "## Build our LSTM network architecture"
   ]
  },
  {
   "cell_type": "code",
   "execution_count": 8,
   "metadata": {},
   "outputs": [],
   "source": [
    "class LSTM(nn.Module):\n",
    "    def __init__(self, hidden_size, layer_dim=1):\n",
    "        super(LSTM, self).__init__()\n",
    "        self.hidden_size = hidden_size\n",
    "        self.lstm1 = nn.LSTM(input_size=1, hidden_size=hidden_size, num_layers=layer_dim, batch_first=True)\n",
    "        self.fc1 = nn.Linear(hidden_size, 40)\n",
    "        self.fc2 = nn.Linear(40, 1)\n",
    "        \n",
    "    def forward(self, inputs):\n",
    "        out, (hn, cn) = self.lstm1(inputs)\n",
    "        out = F.relu(self.fc1(hn.view(-1, self.hidden_size)))\n",
    "        out = self.fc2(out)\n",
    "        return out\n",
    "    \n",
    "net = LSTM(hidden_size=30, layer_dim=1)"
   ]
  },
  {
   "cell_type": "markdown",
   "metadata": {},
   "source": [
    "#### Define our loss criterion and step optimizer"
   ]
  },
  {
   "cell_type": "code",
   "execution_count": 9,
   "metadata": {},
   "outputs": [],
   "source": [
    "criterion = nn.MSELoss()\n",
    "optimizer = optim.Adam(net.parameters(), lr=0.01)"
   ]
  },
  {
   "cell_type": "markdown",
   "metadata": {},
   "source": [
    "## Training Loop"
   ]
  },
  {
   "cell_type": "code",
   "execution_count": 10,
   "metadata": {},
   "outputs": [
    {
     "name": "stdout",
     "output_type": "stream",
     "text": [
      "tensor(189.7171, grad_fn=<MseLossBackward>)\n",
      "tensor(1.3533, grad_fn=<MseLossBackward>)\n",
      "tensor(1.3450, grad_fn=<MseLossBackward>)\n",
      "tensor(1.2828, grad_fn=<MseLossBackward>)\n",
      "tensor(0.5212, grad_fn=<MseLossBackward>)\n",
      "tensor(0.3744, grad_fn=<MseLossBackward>)\n",
      "tensor(0.3174, grad_fn=<MseLossBackward>)\n",
      "tensor(0.2682, grad_fn=<MseLossBackward>)\n",
      "tensor(0.2244, grad_fn=<MseLossBackward>)\n",
      "tensor(0.0597, grad_fn=<MseLossBackward>)\n",
      "tensor(0.0844, grad_fn=<MseLossBackward>)\n",
      "tensor(0.0228, grad_fn=<MseLossBackward>)\n",
      "tensor(0.0217, grad_fn=<MseLossBackward>)\n",
      "tensor(0.0164, grad_fn=<MseLossBackward>)\n",
      "tensor(0.0136, grad_fn=<MseLossBackward>)\n",
      "tensor(0.0104, grad_fn=<MseLossBackward>)\n",
      "tensor(0.0116, grad_fn=<MseLossBackward>)\n",
      "tensor(0.0086, grad_fn=<MseLossBackward>)\n",
      "tensor(0.0074, grad_fn=<MseLossBackward>)\n",
      "tensor(0.0083, grad_fn=<MseLossBackward>)\n",
      "tensor(0.0065, grad_fn=<MseLossBackward>)\n",
      "tensor(0.0240, grad_fn=<MseLossBackward>)\n",
      "tensor(0.0056, grad_fn=<MseLossBackward>)\n",
      "tensor(0.0125, grad_fn=<MseLossBackward>)\n",
      "tensor(0.0052, grad_fn=<MseLossBackward>)\n",
      "tensor(0.0049, grad_fn=<MseLossBackward>)\n",
      "tensor(0.0049, grad_fn=<MseLossBackward>)\n",
      "tensor(0.0051, grad_fn=<MseLossBackward>)\n",
      "tensor(0.0044, grad_fn=<MseLossBackward>)\n",
      "tensor(0.0108, grad_fn=<MseLossBackward>)\n",
      "Finished Training\n"
     ]
    }
   ],
   "source": [
    "for epoch in range(3000):  # loop over the dataset multiple times\n",
    "    optimizer.zero_grad()\n",
    "    outputs = net(inputs)\n",
    "    loss = criterion(outputs, target)\n",
    "    if epoch%100 == 0:\n",
    "        print(loss)\n",
    "    #print(loss)\n",
    "    loss.backward()\n",
    "    optimizer.step()\n",
    "\n",
    "print('Finished Training')"
   ]
  },
  {
   "cell_type": "markdown",
   "metadata": {},
   "source": [
    "## Evaluate our trained Model"
   ]
  },
  {
   "cell_type": "markdown",
   "metadata": {},
   "source": [
    "#### prediction function to make predictions on our testing data"
   ]
  },
  {
   "cell_type": "code",
   "execution_count": 11,
   "metadata": {},
   "outputs": [],
   "source": [
    "def pred(testing, look_ahead):\n",
    "    result = np.array([])\n",
    "    for i in range(look_ahead):\n",
    "        if i < len(testing):\n",
    "            test_ar = np.concatenate((testing[i:], result))\n",
    "        else:\n",
    "            test_ar = result[-10:]\n",
    "        tensor_input = torch.from_numpy(test_ar)\n",
    "        tensor_input = tensor_input.float()\n",
    "        prediction = net(tensor_input.view(1, len(testing), 1))\n",
    "        result = np.append(result, prediction.item())\n",
    "    return result"
   ]
  },
  {
   "cell_type": "code",
   "execution_count": 12,
   "metadata": {},
   "outputs": [
    {
     "data": {
      "text/plain": [
       "array([16.3096962 , 15.49162197, 14.1918354 ])"
      ]
     },
     "execution_count": 12,
     "metadata": {},
     "output_type": "execute_result"
    }
   ],
   "source": [
    "pred(testing[20:30], 3)"
   ]
  },
  {
   "cell_type": "markdown",
   "metadata": {},
   "source": [
    "#### analyze function to plot the ground truth data against our model's predictions"
   ]
  },
  {
   "cell_type": "code",
   "execution_count": 13,
   "metadata": {},
   "outputs": [],
   "source": [
    "def analyze(testing, ground_truth):\n",
    "    plt.plot(np.linspace(1, len(testing)+len(ground_truth), len(testing)+len(ground_truth)), np.concatenate((testing, ground_truth)), 'r')\n",
    "    plt.plot(np.linspace(len(testing)+1, len(testing)+len(ground_truth), len(ground_truth)), pred(testing, len(ground_truth)), 'b')"
   ]
  },
  {
   "cell_type": "markdown",
   "metadata": {},
   "source": [
    "#### Ground Truth (RED) vs Prediction (Blue)"
   ]
  },
  {
   "cell_type": "code",
   "execution_count": 15,
   "metadata": {},
   "outputs": [
    {
     "data": {
      "image/png": "[encoded data removed]",
      "text/plain": [
       "<Figure size 432x288 with 1 Axes>"
      ]
     },
     "metadata": {
      "needs_background": "light"
     },
     "output_type": "display_data"
    }
   ],
   "source": [
    "analyze(testing[20:30], testing[30:40])"
   ]
  },
  {
   "cell_type": "code",
   "execution_count": null,
   "metadata": {},
   "outputs": [],
   "source": []
  }
 ],
 "metadata": {
  "kernelspec": {
   "display_name": "Python 3",
   "language": "python",
   "name": "python3"
  },
  "language_info": {
   "codemirror_mode": {
    "name": "ipython",
    "version": 3
   },
   "file_extension": ".py",
   "mimetype": "text/x-python",
   "name": "python",
   "nbconvert_exporter": "python",
   "pygments_lexer": "ipython3",
   "version": "3.7.3"
  }
 },
 "nbformat": 4,
 "nbformat_minor": 2
}
