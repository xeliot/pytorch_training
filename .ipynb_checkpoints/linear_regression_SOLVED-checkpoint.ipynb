{
 "cells": [
  {
   "cell_type": "markdown",
   "metadata": {},
   "source": [
    "# Linear Regression Lab 1"
   ]
  },
  {
   "cell_type": "markdown",
   "metadata": {},
   "source": [
    "#### Import Pytorch Libraries"
   ]
  },
  {
   "cell_type": "code",
   "execution_count": 11,
   "metadata": {},
   "outputs": [],
   "source": [
    "from __future__ import print_function\n",
    "import torch\n",
    "import torch.nn as nn\n",
    "import torch.nn.functional as F\n",
    "import matplotlib.pyplot as plt\n",
    "import torch.optim as optim\n",
    "import numpy as np"
   ]
  },
  {
   "cell_type": "markdown",
   "metadata": {},
   "source": [
    "#### Generate random data\n",
    "x: input of 100 random floats between -10.0 and 10.0  \n",
    "y: 2*x + 5 + (10% random noise)"
   ]
  },
  {
   "cell_type": "code",
   "execution_count": 12,
   "metadata": {},
   "outputs": [
    {
     "name": "stdout",
     "output_type": "stream",
     "text": [
      "torch.Size([100]) torch.Size([100])\n"
     ]
    }
   ],
   "source": [
    "x = 20 * torch.rand(100) - 10\n",
    "y = (2 * x) + 5\n",
    "noise_ratio = 0.2 * torch.rand(100) - 0.1\n",
    "y_range = torch.max(y) - torch.min(y)\n",
    "noise = noise_ratio * y_range\n",
    "y = y + noise\n",
    "print(x.size(), y.size())"
   ]
  },
  {
   "cell_type": "markdown",
   "metadata": {},
   "source": [
    "#### Plot randomly generated data"
   ]
  },
  {
   "cell_type": "code",
   "execution_count": 13,
   "metadata": {},
   "outputs": [
    {
     "data": {
      "image/png": "[encoded data removed]",
      "text/plain": [
       "<Figure size 432x288 with 1 Axes>"
      ]
     },
     "metadata": {
      "needs_background": "light"
     },
     "output_type": "display_data"
    }
   ],
   "source": [
    "plt.scatter(x.numpy(), y.numpy(), alpha=0.7, s=15)\n",
    "plt.axhline(0, color=\"black\", linestyle=\"--\", alpha=0.3, linewidth=1)\n",
    "plt.axvline(0, color=\"black\", linestyle=\"--\", alpha=0.3, linewidth=1)\n",
    "plt.show()"
   ]
  },
  {
   "cell_type": "markdown",
   "metadata": {},
   "source": [
    "#### Initialize parameters"
   ]
  },
  {
   "cell_type": "code",
   "execution_count": 14,
   "metadata": {},
   "outputs": [],
   "source": [
    "w = torch.rand(1, requires_grad=True)\n",
    "b = torch.rand(1, requires_grad=True)"
   ]
  },
  {
   "cell_type": "markdown",
   "metadata": {},
   "source": [
    "#### Gradient iterative descent"
   ]
  },
  {
   "cell_type": "code",
   "execution_count": 15,
   "metadata": {},
   "outputs": [
    {
     "name": "stdout",
     "output_type": "stream",
     "text": [
      "mseloss: 145.8003692626953\n",
      "params:[0.005971193313598633, 0.8909163475036621]\n",
      "mseloss: 11.112471580505371\n",
      "params:[1.9966375827789307, 2.107496976852417]\n",
      "mseloss: 7.778365612030029\n",
      "params:[1.994032382965088, 2.9187498092651367]\n",
      "mseloss: 6.279983043670654\n",
      "params:[1.992277979850769, 3.4625985622406006]\n",
      "mseloss: 5.606595039367676\n",
      "params:[1.9911017417907715, 3.8271842002868652]\n",
      "mseloss: 5.303967475891113\n",
      "params:[1.9903029203414917, 4.071596145629883]\n",
      "mseloss: 5.167963981628418\n",
      "params:[1.9897783994674683, 4.235444068908691]\n",
      "mseloss: 5.1068434715271\n",
      "params:[1.9894267320632935, 4.345283031463623]\n",
      "mseloss: 5.079375743865967\n",
      "params:[1.9891804456710815, 4.418915748596191]\n",
      "mseloss: 5.067030906677246\n",
      "params:[1.9890235662460327, 4.468278408050537]\n",
      "finished training\n"
     ]
    }
   ],
   "source": [
    "lr = 0.0001\n",
    "for i in range(0, 20000):\n",
    "    y_pred = (w * x) + b\n",
    "    l2 = torch.mean(torch.pow(y - y_pred, 2))\n",
    "    if i%2000 == 0:\n",
    "        print(\"mseloss:\", l2.item())\n",
    "        print(\"params:[{}, {}]\".format(w.item(), b.item()))\n",
    "        \n",
    "    # backward propagate loss\n",
    "    l2.backward()\n",
    "    \n",
    "    # update parameters using gradient descent\n",
    "    w = w - (lr * w.grad)\n",
    "    b = b - (lr * b.grad)\n",
    "    \n",
    "    # detach parameters from computational graph\n",
    "    w = torch.tensor([w.item()], requires_grad=True)\n",
    "    b = torch.tensor([b.item()], requires_grad=True)\n",
    "print(\"finished training\")"
   ]
  },
  {
   "cell_type": "markdown",
   "metadata": {},
   "source": [
    "#### Red Line (Prediction) vs Blue (Input)"
   ]
  },
  {
   "cell_type": "code",
   "execution_count": 16,
   "metadata": {},
   "outputs": [
    {
     "name": "stdout",
     "output_type": "stream",
     "text": [
      "y_actual = 2(x) + 5\n",
      "y_pred = 1.9889200925827026(x) + 4.501369953155518\n"
     ]
    },
    {
     "data": {
      "image/png": "[encoded data removed]",
      "text/plain": [
       "<Figure size 432x288 with 1 Axes>"
      ]
     },
     "metadata": {
      "needs_background": "light"
     },
     "output_type": "display_data"
    }
   ],
   "source": [
    "plt.scatter(x.numpy().reshape(100), y.numpy().reshape(100), alpha=0.7, s=15)\n",
    "plt.axhline(0, color=\"black\", linestyle=\"--\", alpha=0.3, linewidth=1)\n",
    "plt.axvline(0, color=\"black\", linestyle=\"--\", alpha=0.3, linewidth=1)\n",
    "x_pred = np.linspace(-10, 10, 100)\n",
    "print(\"y_actual = {}(x) + {}\".format(2, 5))\n",
    "print(\"y_pred = {}(x) + {}\".format(w.item(), b.item()))\n",
    "y_pred = (w.item() * x_pred) + b.item()\n",
    "plt.plot(x_pred, y_pred, color=\"red\")\n",
    "plt.show()"
   ]
  },
  {
   "cell_type": "code",
   "execution_count": null,
   "metadata": {},
   "outputs": [],
   "source": []
  }
 ],
 "metadata": {
  "kernelspec": {
   "display_name": "Python 3",
   "language": "python",
   "name": "python3"
  },
  "language_info": {
   "codemirror_mode": {
    "name": "ipython",
    "version": 3
   },
   "file_extension": ".py",
   "mimetype": "text/x-python",
   "name": "python",
   "nbconvert_exporter": "python",
   "pygments_lexer": "ipython3",
   "version": "3.7.3"
  }
 },
 "nbformat": 4,
 "nbformat_minor": 2
}
