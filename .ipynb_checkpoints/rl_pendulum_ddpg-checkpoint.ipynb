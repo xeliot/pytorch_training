{
 "cells": [
  {
   "cell_type": "markdown",
   "metadata": {},
   "source": [
    "# Open AI Gym Pendulum-v0 solution using DDPG (Deep Deterministic Policy Gradient)"
   ]
  },
  {
   "cell_type": "code",
   "execution_count": 1,
   "metadata": {},
   "outputs": [],
   "source": [
    "import gym\n",
    "import numpy as np\n",
    "import random\n",
    "import math\n",
    "\n",
    "from IPython.display import clear_output\n",
    "import matplotlib.pyplot as plt\n",
    "%matplotlib inline\n",
    "\n",
    "import torch\n",
    "import torch.nn as nn\n",
    "import torch.nn.functional as F\n",
    "import torch.optim as optim\n",
    "\n",
    "from collections import deque"
   ]
  },
  {
   "cell_type": "markdown",
   "metadata": {},
   "source": [
    "### Memory Buffer class for experience replay"
   ]
  },
  {
   "cell_type": "code",
   "execution_count": 2,
   "metadata": {},
   "outputs": [],
   "source": [
    "class MemoryBuffer():\n",
    "    def __init__(self, max_size):\n",
    "        self.buffer = deque(maxlen=max_size)\n",
    "    \n",
    "    def push(self, state, action, reward, next_state, done):\n",
    "        experience = (state, np.array([action]), np.array([reward]), next_state, done)\n",
    "        self.buffer.append(experience)\n",
    "        \n",
    "    def sample(self, batch_size):\n",
    "        state_batch = []\n",
    "        action_batch = []\n",
    "        reward_batch = []\n",
    "        next_state_batch = []\n",
    "        done_batch = []\n",
    "        \n",
    "        batch = random.sample(self.buffer, batch_size)\n",
    "        \n",
    "        for experience in batch:\n",
    "            state, action, reward, next_state, done = experience\n",
    "            state_batch.append(state)\n",
    "            action_batch.append(action)\n",
    "            reward_batch.append(reward)\n",
    "            next_state_batch.append(next_state)\n",
    "            done_batch.append(done)\n",
    "        \n",
    "        return state_batch, action_batch, reward_batch, next_state_batch, done_batch\n",
    "    \n",
    "    def __len__(self):\n",
    "        return len(self.buffer)"
   ]
  },
  {
   "cell_type": "markdown",
   "metadata": {},
   "source": [
    "### Actor and Critic Networks"
   ]
  },
  {
   "cell_type": "code",
   "execution_count": 3,
   "metadata": {},
   "outputs": [],
   "source": [
    "class Actor(nn.Module):\n",
    "    def __init__(self, input_size, hidden_size, output_size):\n",
    "        super(Actor, self).__init__()\n",
    "        self.fc1 = nn.Linear(input_size, hidden_size)\n",
    "        self.fc2 = nn.Linear(hidden_size, hidden_size)\n",
    "        self.fc3 = nn.Linear(hidden_size, output_size)\n",
    "    \n",
    "    def forward(self, state):\n",
    "        output = F.relu(self.fc1(state))\n",
    "        output = F.relu(self.fc2(output))\n",
    "        output = torch.tanh(self.fc3(output))\n",
    "        return output * 2\n",
    "\n",
    "class Critic(nn.Module):\n",
    "    def __init__(self, input_size, hidden_size, output_size):\n",
    "        super(Critic, self).__init__()\n",
    "        self.fc1 = nn.Linear(input_size, hidden_size)\n",
    "        self.fc2 = nn.Linear(hidden_size, hidden_size)\n",
    "        self.fc3 = nn.Linear(hidden_size, output_size)\n",
    "    \n",
    "    def forward(self, state, action):\n",
    "        output = torch.cat([state, action], 1)\n",
    "        output = F.relu(self.fc1(output))\n",
    "        output = F.relu(self.fc2(output))\n",
    "        output = self.fc3(output)\n",
    "        return output"
   ]
  },
  {
   "cell_type": "markdown",
   "metadata": {},
   "source": [
    "### Agent"
   ]
  },
  {
   "cell_type": "code",
   "execution_count": 4,
   "metadata": {},
   "outputs": [],
   "source": [
    "class Agent:\n",
    "    def __init__(self, env, hidden_size=256, actor_lr=1e-4, critic_lr=1e-3, gamma=0.99, tau=1e-2, max_memory_size=50000):\n",
    "        self.num_states = env.observation_space.shape[0]\n",
    "        self.num_actions = env.action_space.shape[0]\n",
    "        self.gamma = gamma\n",
    "        self.tau = tau\n",
    "        \n",
    "        self.actor = Actor(self.num_states, hidden_size, self.num_actions)\n",
    "        self.actor_old = Actor(self.num_states, hidden_size, self.num_actions)\n",
    "        self.critic = Critic(self.num_states + self.num_actions, hidden_size, self.num_actions)\n",
    "        self.critic_old = Critic(self.num_states + self.num_actions, hidden_size, self.num_actions)\n",
    "        \n",
    "        for old_param, param in zip(self.actor_old.parameters(), self.actor.parameters()):\n",
    "            old_param.data.copy_(param.data)\n",
    "            \n",
    "        for old_param, param in zip(self.critic_old.parameters(), self.critic.parameters()):\n",
    "            old_param.data.copy_(param.data)\n",
    "            \n",
    "        self.memory_buffer = MemoryBuffer(max_memory_size)\n",
    "        self.critic_criterion = nn.MSELoss()\n",
    "        self.actor_optimizer = optim.Adam(self.actor.parameters(), lr=actor_lr)\n",
    "        self.critic_optimizer = optim.Adam(self.critic.parameters(), lr=critic_lr)\n",
    "        \n",
    "    def get_action(self, state):\n",
    "        state = torch.from_numpy(state).type(torch.float).unsqueeze(0)\n",
    "        action = self.actor.forward(state)\n",
    "        action = action.detach().numpy().item()\n",
    "        return action\n",
    "    \n",
    "    def update(self, batch_size):\n",
    "        states, actions, rewards, next_states, done = self.memory_buffer.sample(batch_size)\n",
    "        states = torch.tensor(states, dtype=torch.float)\n",
    "        actions = torch.tensor(actions, dtype=torch.float)\n",
    "        rewards = torch.tensor(rewards, dtype=torch.float)\n",
    "        next_states = torch.tensor(next_states, dtype=torch.float)\n",
    "        done = torch.tensor(done, dtype=torch.float)\n",
    "        \n",
    "        qvals = self.critic.forward(states, actions)\n",
    "        next_actions = self.actor_old.forward(next_states)\n",
    "        next_qvals = self.critic_old.forward(next_states, next_actions.detach())\n",
    "        qprime = rewards + self.gamma * next_qvals\n",
    "        critic_loss = self.critic_criterion(qvals, qprime)\n",
    "        \n",
    "        policy_loss = -self.critic.forward(states, self.actor.forward(states)).mean()\n",
    "        \n",
    "        self.actor_optimizer.zero_grad()\n",
    "        policy_loss.backward()\n",
    "        self.actor_optimizer.step()\n",
    "        \n",
    "        self.critic_optimizer.zero_grad()\n",
    "        critic_loss.backward()\n",
    "        self.critic_optimizer.step()\n",
    "        \n",
    "        for old_param, param in zip(self.actor_old.parameters(), self.actor.parameters()):\n",
    "            old_param.data.copy_(param.data * self.tau + old_param.data * (1.0 - self.tau))\n",
    "            \n",
    "        for old_param, param in zip(self.critic_old.parameters(), self.critic.parameters()):\n",
    "            old_param.data.copy_(param.data * self.tau + old_param.data * (1.0 - self.tau))\n"
   ]
  },
  {
   "cell_type": "markdown",
   "metadata": {},
   "source": [
    "### Training"
   ]
  },
  {
   "cell_type": "code",
   "execution_count": 5,
   "metadata": {},
   "outputs": [],
   "source": [
    "def epsilon_by_episode(episode):\n",
    "    epsilon_start = 0.1\n",
    "    epsilon_final = 0.00001\n",
    "    epsilon_decay = 9\n",
    "    #return epsilon_final + (epsilon_start - epsilon_final) * math.exp(-1. * frame_idx / epsilon_decay)\n",
    "    return epsilon_start * math.exp(-1. * episode / epsilon_decay)\n",
    "\n",
    "def plot(frame, rewards):\n",
    "    clear_output(True)\n",
    "    plt.figure(figsize=(20, 5))\n",
    "    plt.subplot(131)\n",
    "    plt.title(\"frame %s. reward: %s\" % (frame, np.mean(rewards[-10:])))\n",
    "    plt.plot(rewards)\n",
    "    plt.show()"
   ]
  },
  {
   "cell_type": "code",
   "execution_count": 6,
   "metadata": {},
   "outputs": [
    {
     "data": {
      "image/png": "[encoded data removed]",
      "text/plain": [
       "<Figure size 1440x360 with 1 Axes>"
      ]
     },
     "metadata": {
      "needs_background": "light"
     },
     "output_type": "display_data"
    }
   ],
   "source": [
    "env = gym.make('Pendulum-v0')\n",
    "\n",
    "agent = Agent(env)\n",
    "batch_size = 128\n",
    "rewards = []\n",
    "avg_rewards = []\n",
    "frame = 0\n",
    "\n",
    "for episode in range(50):\n",
    "    state = env.reset()\n",
    "    episode_reward = 0\n",
    "    \n",
    "    for step in range(500):\n",
    "        env.render()\n",
    "        frame += 1\n",
    "        \n",
    "        action = agent.get_action(state)\n",
    "        epsilon = epsilon_by_episode(episode)\n",
    "        random_noise = torch.randn(1) * epsilon # needs decay later\n",
    "        action += random_noise\n",
    "        new_state, reward, done, _ = env.step(action)\n",
    "        agent.memory_buffer.push(state, action, reward, new_state, done)\n",
    "        \n",
    "        if len(agent.memory_buffer) > batch_size:\n",
    "            agent.update(batch_size)\n",
    "    \n",
    "        state = new_state\n",
    "        episode_reward += reward\n",
    "        \n",
    "        if done:\n",
    "            #print(\"episode: {}, reward: {}\".format(episode, np.round(episode_reward, decimals=2)))\n",
    "            break\n",
    "            \n",
    "        if frame%40 == 0:\n",
    "            plot(frame, rewards)\n",
    "    \n",
    "    rewards.append(episode_reward)\n",
    "    avg_rewards.append(np.mean(rewards[:-10]))\n",
    "            \n",
    "    rewards.append(episode_reward)"
   ]
  },
  {
   "cell_type": "code",
   "execution_count": null,
   "metadata": {},
   "outputs": [],
   "source": []
  },
  {
   "cell_type": "code",
   "execution_count": null,
   "metadata": {},
   "outputs": [],
   "source": []
  }
 ],
 "metadata": {
  "kernelspec": {
   "display_name": "Python 3",
   "language": "python",
   "name": "python3"
  },
  "language_info": {
   "codemirror_mode": {
    "name": "ipython",
    "version": 3
   },
   "file_extension": ".py",
   "mimetype": "text/x-python",
   "name": "python",
   "nbconvert_exporter": "python",
   "pygments_lexer": "ipython3",
   "version": "3.7.3"
  }
 },
 "nbformat": 4,
 "nbformat_minor": 2
}
