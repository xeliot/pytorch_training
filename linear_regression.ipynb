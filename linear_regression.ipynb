{
 "cells": [
  {
   "cell_type": "markdown",
   "metadata": {},
   "source": [
    "# Linear Regression Lab 1"
   ]
  },
  {
   "cell_type": "markdown",
   "metadata": {},
   "source": [
    "#### Import Pytorch Libraries"
   ]
  },
  {
   "cell_type": "code",
   "execution_count": 20,
   "metadata": {},
   "outputs": [],
   "source": [
    "from __future__ import print_function\n",
    "import torch\n",
    "import torch.nn as nn\n",
    "import torch.nn.functional as F\n",
    "import matplotlib.pyplot as plt\n",
    "import torch.optim as optim\n",
    "import numpy as np"
   ]
  },
  {
   "cell_type": "markdown",
   "metadata": {},
   "source": [
    "#### Generate random data\n",
    "x: input of 100 random floats between -10.0 and 10.0  \n",
    "y: 2*x + 5 + (10% random noise)"
   ]
  },
  {
   "cell_type": "code",
   "execution_count": 21,
   "metadata": {},
   "outputs": [
    {
     "name": "stdout",
     "output_type": "stream",
     "text": [
      "torch.Size([100]) torch.Size([100])\n"
     ]
    }
   ],
   "source": [
    "# TODO: store tensor of size 100 in variable x\n",
    "## x = ...\n",
    "\n",
    "# TODO: apply f(x) = 2x + 5 and store in variable y\n",
    "## y = ... x ...\n",
    "\n",
    "# Add some noise to our data\n",
    "noise_ratio = 0.2 * torch.rand(100) - 0.1\n",
    "y_range = torch.max(y) - torch.min(y)\n",
    "noise = noise_ratio * y_range\n",
    "y = y + noise\n",
    "\n",
    "print(x.size(), y.size())"
   ]
  },
  {
   "cell_type": "markdown",
   "metadata": {},
   "source": [
    "#### Plot randomly generated data"
   ]
  },
  {
   "cell_type": "code",
   "execution_count": 22,
   "metadata": {},
   "outputs": [
    {
     "data": {
      "image/png": "[encoded data removed]",
      "text/plain": [
       "<Figure size 432x288 with 1 Axes>"
      ]
     },
     "metadata": {
      "needs_background": "light"
     },
     "output_type": "display_data"
    }
   ],
   "source": [
    "plt.scatter(x.numpy(), y.numpy(), alpha=0.7, s=15)\n",
    "plt.axhline(0, color=\"black\", linestyle=\"--\", alpha=0.3, linewidth=1)\n",
    "plt.axvline(0, color=\"black\", linestyle=\"--\", alpha=0.3, linewidth=1)\n",
    "plt.show()"
   ]
  },
  {
   "cell_type": "markdown",
   "metadata": {},
   "source": [
    "#### Initialize parameters"
   ]
  },
  {
   "cell_type": "code",
   "execution_count": 23,
   "metadata": {},
   "outputs": [],
   "source": [
    "# TODO: randomly initialize weight parameter tensor and store in variable w\n",
    "## w = ..., requires_grad=True)\n",
    "\n",
    "# TODO: randomly initialize bias parameter tensor and store in variable b\n",
    "## b = ..., requires_grad=True\n"
   ]
  },
  {
   "cell_type": "markdown",
   "metadata": {},
   "source": [
    "#### Gradient iterative descent"
   ]
  },
  {
   "cell_type": "code",
   "execution_count": 24,
   "metadata": {},
   "outputs": [
    {
     "name": "stdout",
     "output_type": "stream",
     "text": [
      "mseloss: 159.72410583496094\n",
      "params:[0.08672350645065308, 0.36866265535354614]\n",
      "mseloss: 4.756180763244629\n",
      "params:[1.954541563987732, 4.202793598175049]\n",
      "mseloss: 4.402024745941162\n",
      "params:[1.948387622833252, 4.722842216491699]\n",
      "mseloss: 4.395432949066162\n",
      "params:[1.9475480318069458, 4.79379415512085]\n",
      "mseloss: 4.395309925079346\n",
      "params:[1.947433352470398, 4.803474426269531]\n",
      "mseloss: 4.395307540893555\n",
      "params:[1.9474183320999146, 4.804779529571533]\n",
      "mseloss: 4.395307540893555\n",
      "params:[1.947417140007019, 4.804884910583496]\n",
      "mseloss: 4.395307540893555\n",
      "params:[1.947417140007019, 4.804884910583496]\n",
      "mseloss: 4.395307540893555\n",
      "params:[1.947417140007019, 4.804884910583496]\n",
      "mseloss: 4.395307540893555\n",
      "params:[1.947417140007019, 4.804884910583496]\n",
      "finished training\n"
     ]
    }
   ],
   "source": [
    "lr = 0.001\n",
    "for i in range(0, 10000):\n",
    "    # TODO: calculate our model prediction using tensor w and tensor b and store in variable y_pred\n",
    "    ## y_pred = ... x ...\n",
    "    \n",
    "    l2 = torch.mean(torch.pow(y - y_pred, 2))\n",
    "    if i%1000 == 0:\n",
    "        print(\"mseloss:\", l2.item())\n",
    "        print(\"params:[{}, {}]\".format(w.item(), b.item()))\n",
    "    l2.backward()\n",
    "    w = w - (lr * w.grad)\n",
    "    b = b - (lr * b.grad)\n",
    "    w = torch.tensor([w.item()], requires_grad=True)\n",
    "    b = torch.tensor([b.item()], requires_grad=True)\n",
    "print(\"finished training\")"
   ]
  },
  {
   "cell_type": "code",
   "execution_count": 25,
   "metadata": {},
   "outputs": [
    {
     "name": "stdout",
     "output_type": "stream",
     "text": [
      "y_actual = 2(x) + 5\n",
      "y_pred = 1.947417140007019(x) + 4.804884910583496\n"
     ]
    },
    {
     "data": {
      "image/png": "[encoded data removed]",
      "text/plain": [
       "<Figure size 432x288 with 1 Axes>"
      ]
     },
     "metadata": {
      "needs_background": "light"
     },
     "output_type": "display_data"
    }
   ],
   "source": [
    "plt.scatter(x.numpy().reshape(100), y.numpy().reshape(100), alpha=0.7, s=15)\n",
    "plt.axhline(0, color=\"black\", linestyle=\"--\", alpha=0.3, linewidth=1)\n",
    "plt.axvline(0, color=\"black\", linestyle=\"--\", alpha=0.3, linewidth=1)\n",
    "x_pred = np.linspace(-10, 10, 100)\n",
    "print(\"y_actual = {}(x) + {}\".format(2, 5))\n",
    "print(\"y_pred = {}(x) + {}\".format(w.item(), b.item()))\n",
    "y_pred = (w.item() * x_pred) + b.item()\n",
    "plt.plot(x_pred, y_pred, color=\"red\")\n",
    "plt.show()"
   ]
  },
  {
   "cell_type": "code",
   "execution_count": null,
   "metadata": {},
   "outputs": [],
   "source": []
  }
 ],
 "metadata": {
  "kernelspec": {
   "display_name": "Python 3",
   "language": "python",
   "name": "python3"
  },
  "language_info": {
   "codemirror_mode": {
    "name": "ipython",
    "version": 3
   },
   "file_extension": ".py",
   "mimetype": "text/x-python",
   "name": "python",
   "nbconvert_exporter": "python",
   "pygments_lexer": "ipython3",
   "version": "3.7.3"
  }
 },
 "nbformat": 4,
 "nbformat_minor": 2
}
