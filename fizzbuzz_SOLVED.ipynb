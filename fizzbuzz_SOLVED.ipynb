{
 "cells": [
  {
   "cell_type": "markdown",
   "metadata": {},
   "source": [
    "# Fizzbuzz Lab 2"
   ]
  },
  {
   "cell_type": "markdown",
   "metadata": {},
   "source": [
    "#### Import Pytorch libraries"
   ]
  },
  {
   "cell_type": "code",
   "execution_count": 72,
   "metadata": {},
   "outputs": [],
   "source": [
    "from __future__ import print_function\n",
    "import torch\n",
    "import torch.nn as nn\n",
    "import torch.nn.functional as F\n",
    "import matplotlib.pyplot as plt\n",
    "import torch.optim as optim\n",
    "import numpy as np"
   ]
  },
  {
   "cell_type": "markdown",
   "metadata": {},
   "source": [
    "#### Build data classifier"
   ]
  },
  {
   "cell_type": "code",
   "execution_count": 73,
   "metadata": {},
   "outputs": [],
   "source": [
    "#0 class is Fizzbuzz\n",
    "#1 class is Fizz\n",
    "#2 class is Buzz\n",
    "#3 class is Same\n",
    "def fizzbuzz(num):\n",
    "    if num%15 == 0:\n",
    "        return (\"FizzBuzz\", 0)\n",
    "    elif num%3 == 0:\n",
    "        return (\"Fizz\", 1)\n",
    "    elif num%5 == 0:\n",
    "        return (\"Buzz\", 2)\n",
    "    else:\n",
    "        return (str(num), 3)"
   ]
  },
  {
   "cell_type": "markdown",
   "metadata": {},
   "source": [
    "#### Build function to generate training data"
   ]
  },
  {
   "cell_type": "code",
   "execution_count": 74,
   "metadata": {},
   "outputs": [],
   "source": [
    "def generate_training_data(range_start=101, range_end=2000):\n",
    "    inputs = []\n",
    "    outputs = []\n",
    "    for i in range(range_start, range_end+1):\n",
    "        inputs.append([float(char) for char in np.binary_repr(i, width=12)])\n",
    "        outputs.append(fizzbuzz(i)[1])\n",
    "    return (inputs, outputs)"
   ]
  },
  {
   "cell_type": "markdown",
   "metadata": {},
   "source": [
    "#### Generate training data"
   ]
  },
  {
   "cell_type": "code",
   "execution_count": 75,
   "metadata": {},
   "outputs": [],
   "source": [
    "(inputs, outputs) = generate_training_data()"
   ]
  },
  {
   "cell_type": "markdown",
   "metadata": {},
   "source": [
    "#### Generate validation data"
   ]
  },
  {
   "cell_type": "code",
   "execution_count": 76,
   "metadata": {},
   "outputs": [],
   "source": [
    "(inputs_validation, outputs_validation) = generate_training_data(range_start=1, range_end=100)"
   ]
  },
  {
   "cell_type": "markdown",
   "metadata": {},
   "source": [
    "#### Build neural network architecture"
   ]
  },
  {
   "cell_type": "code",
   "execution_count": 77,
   "metadata": {},
   "outputs": [],
   "source": [
    "class Net(nn.Module):\n",
    "    def __init__(self):\n",
    "        super(Net, self).__init__()\n",
    "        self.fc1 = nn.Linear(12, 64)\n",
    "        self.fc2 = nn.Linear(64, 64)\n",
    "        self.fc3 = nn.Linear(64, 4)\n",
    "        self.dropout = nn.Dropout(p=0.2)\n",
    "    \n",
    "    def forward(self, x):\n",
    "        x = F.relu(self.fc1(x))\n",
    "        x = self.dropout(x)\n",
    "        x = F.relu(self.fc2(x))\n",
    "        x = self.dropout(x)\n",
    "        x = self.fc3(x)\n",
    "        return x"
   ]
  },
  {
   "cell_type": "markdown",
   "metadata": {},
   "source": [
    "#### Initialize our model"
   ]
  },
  {
   "cell_type": "code",
   "execution_count": 78,
   "metadata": {},
   "outputs": [],
   "source": [
    "net = Net()"
   ]
  },
  {
   "cell_type": "markdown",
   "metadata": {},
   "source": [
    "#### Train our model"
   ]
  },
  {
   "cell_type": "code",
   "execution_count": 79,
   "metadata": {},
   "outputs": [
    {
     "name": "stdout",
     "output_type": "stream",
     "text": [
      "cross entropy loss: 1.3969707489013672|  validation loss: 1.4100772142410278\n",
      "cross entropy loss: 0.8892794251441956|  validation loss: 0.8651884198188782\n",
      "cross entropy loss: 0.6456678509712219|  validation loss: 0.7085328698158264\n",
      "cross entropy loss: 0.46943846344947815|  validation loss: 0.5952054858207703\n",
      "cross entropy loss: 0.40909215807914734|  validation loss: 0.3883369565010071\n",
      "cross entropy loss: 0.35288405418395996|  validation loss: 0.4517550766468048\n",
      "cross entropy loss: 0.30009225010871887|  validation loss: 0.44402316212654114\n",
      "cross entropy loss: 0.2679820656776428|  validation loss: 0.3104497194290161\n",
      "cross entropy loss: 0.22856581211090088|  validation loss: 0.30143702030181885\n",
      "cross entropy loss: 0.24595947563648224|  validation loss: 0.27405908703804016\n"
     ]
    }
   ],
   "source": [
    "criterion = nn.CrossEntropyLoss()\n",
    "optimizer = optim.Adam(net.parameters(), lr=0.0001)\n",
    "#tranining loop\n",
    "net.train()\n",
    "for i in range(0, 50000):\n",
    "    optimizer.zero_grad()\n",
    "    input_tensor = torch.tensor(inputs, dtype=torch.float)\n",
    "    target_tensor = torch.tensor(outputs)\n",
    "    output = net(input_tensor)\n",
    "    loss = criterion(output, target_tensor)\n",
    "    input_validation_tensor = torch.tensor(inputs_validation, dtype=torch.float)\n",
    "    target_validation_tensor = torch.tensor(outputs_validation)\n",
    "    validation_output = net(input_validation_tensor)\n",
    "    validation_loss = criterion(validation_output, target_validation_tensor)\n",
    "    if i%5000 == 0:\n",
    "        print(\"cross entropy loss: \" +  str(loss.item()) + \"|  validation loss: \" + str(validation_loss.item()))\n",
    "    loss.backward()\n",
    "    optimizer.step()"
   ]
  },
  {
   "cell_type": "markdown",
   "metadata": {},
   "source": [
    "#### Test our model on our validation set"
   ]
  },
  {
   "cell_type": "code",
   "execution_count": 80,
   "metadata": {},
   "outputs": [],
   "source": [
    "net.eval()\n",
    "predictions = net(torch.tensor(inputs_validation, dtype=torch.float))\n",
    "predictions = predictions.detach().numpy()"
   ]
  },
  {
   "cell_type": "markdown",
   "metadata": {},
   "source": [
    "#### Show validation results"
   ]
  },
  {
   "cell_type": "code",
   "execution_count": 81,
   "metadata": {},
   "outputs": [
    {
     "name": "stdout",
     "output_type": "stream",
     "text": [
      "1 1\n",
      "2 2\n",
      "3 Fizz\n",
      "4 4\n",
      "5 Buzz\n",
      "6 Fizz\n",
      "7 7\n",
      "8 8\n",
      "9 Fizz\n",
      "10 Buzz\n",
      "11 11\n",
      "12 Fizz\n",
      "13 13\n",
      "14 14\n",
      "15 FizzBuzz\n",
      "16 16\n",
      "17 17\n",
      "18 Fizz\n",
      "19 19\n",
      "20 Buzz\n",
      "21 Fizz\n",
      "22 22\n",
      "23 23\n",
      "24 Fizz\n",
      "25 25\n",
      "26 26\n",
      "27 Fizz\n",
      "28 28\n",
      "29 29\n",
      "30 FizzBuzz\n",
      "31 31\n",
      "32 32\n",
      "33 Fizz\n",
      "34 34\n",
      "35 Buzz\n",
      "36 Fizz\n",
      "37 37\n",
      "38 38\n",
      "39 Fizz\n",
      "40 Buzz\n",
      "41 41\n",
      "42 Fizz\n",
      "43 43\n",
      "44 44\n",
      "45 FizzBuzz\n",
      "46 46\n",
      "47 47\n",
      "48 Fizz\n",
      "49 49\n",
      "50 Buzz\n",
      "51 Fizz\n",
      "52 52\n",
      "53 53\n",
      "54 Fizz\n",
      "55 Buzz\n",
      "56 56\n",
      "57 Fizz\n",
      "58 58\n",
      "59 59\n",
      "60 FizzBuzz\n",
      "61 61\n",
      "62 62\n",
      "63 Fizz\n",
      "64 64\n",
      "65 Buzz\n",
      "66 Fizz\n",
      "67 67\n",
      "68 68\n",
      "69 Fizz\n",
      "70 Buzz\n",
      "71 71\n",
      "72 Fizz\n",
      "73 73\n",
      "74 74\n",
      "75 FizzBuzz\n",
      "76 76\n",
      "77 77\n",
      "78 Fizz\n",
      "79 79\n",
      "80 Buzz\n",
      "81 Fizz\n",
      "82 82\n",
      "83 83\n",
      "84 Fizz\n",
      "85 Buzz\n",
      "86 86\n",
      "87 Fizz\n",
      "88 88\n",
      "89 89\n",
      "90 FizzBuzz\n",
      "91 91\n",
      "92 92\n",
      "93 93\n",
      "94 94\n",
      "95 Buzz\n",
      "96 Fizz\n",
      "97 97\n",
      "98 98\n",
      "99 Fizz\n",
      "100 Buzz\n"
     ]
    }
   ],
   "source": [
    "for i in range(0, len(predictions)):\n",
    "    prediction = np.argmax(predictions[i])\n",
    "    if prediction == 0:\n",
    "        class_pred = \"FizzBuzz\"\n",
    "    elif prediction == 1:\n",
    "        class_pred = \"Fizz\"\n",
    "    elif prediction == 2:\n",
    "        class_pred = \"Buzz\"\n",
    "    elif prediction == 3:\n",
    "        class_pred = str(i+1)\n",
    "    print(i+1, class_pred)"
   ]
  },
  {
   "cell_type": "code",
   "execution_count": null,
   "metadata": {},
   "outputs": [],
   "source": []
  },
  {
   "cell_type": "code",
   "execution_count": null,
   "metadata": {},
   "outputs": [],
   "source": []
  }
 ],
 "metadata": {
  "kernelspec": {
   "display_name": "Python 3",
   "language": "python",
   "name": "python3"
  },
  "language_info": {
   "codemirror_mode": {
    "name": "ipython",
    "version": 3
   },
   "file_extension": ".py",
   "mimetype": "text/x-python",
   "name": "python",
   "nbconvert_exporter": "python",
   "pygments_lexer": "ipython3",
   "version": "3.7.3"
  }
 },
 "nbformat": 4,
 "nbformat_minor": 2
}
